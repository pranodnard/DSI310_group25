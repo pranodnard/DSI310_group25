{
 "cells": [
  {
   "cell_type": "code",
   "execution_count": 32,
   "id": "721f3306",
   "metadata": {},
   "outputs": [],
   "source": [
    "import pandas as pd\n",
    "from bs4 import BeautifulSoup as bs\n",
    "import requests\n",
    "import datetime\n",
    "import urllib\n",
    "import re"
   ]
  },
  {
   "cell_type": "code",
   "execution_count": 34,
   "id": "b2b6ea5e",
   "metadata": {},
   "outputs": [],
   "source": [
    "url = 'https://www.tops.co.th/th/tops-picks/organic-food'\n",
    "page = requests.get(url)\n",
    "soup = bs(page.content, 'html.parser')\n",
    "findall = soup.findAll(\"div\" ,attrs={\"class\",\"mt-product-list mt-product-list--wrap undefined\"})"
   ]
  },
  {
   "cell_type": "markdown",
   "id": "4ff7d8b2",
   "metadata": {},
   "source": [
    "### NAME OF PRODUCT"
   ]
  },
  {
   "cell_type": "code",
   "execution_count": 35,
   "id": "34fe58ce",
   "metadata": {},
   "outputs": [],
   "source": [
    "name = []\n",
    "a = bs(str(findall))\n",
    "a = a.findAll(\"div\" ,attrs={\"class\",\"product-item--title\"})\n",
    "for i in a:\n",
    "    i = i.get_text()\n",
    "    name.append(i)"
   ]
  },
  {
   "cell_type": "markdown",
   "id": "f2fbb55e",
   "metadata": {},
   "source": [
    "### PRICE OF PRODUCT"
   ]
  },
  {
   "cell_type": "code",
   "execution_count": 74,
   "id": "b508f074",
   "metadata": {},
   "outputs": [],
   "source": [
    "price = []\n",
    "unit = []\n",
    "a = bs(str(findall))\n",
    "b = a.findAll(\"span\" ,attrs={\"class\",\"mt-price-number\"})\n",
    "c = a.findAll(\"span\" ,attrs={\"class\",\"mt-price-label\"})\n",
    "\n",
    "\n",
    "for i in b:\n",
    "    i = i.get_text()\n",
    "    price.append(float(i))\n",
    "    \n",
    "for i in c:\n",
    "    i = i.get_text()\n",
    "    i = i[2:]\n",
    "    unit.append(i)"
   ]
  },
  {
   "cell_type": "markdown",
   "id": "0405f188",
   "metadata": {},
   "source": [
    "### PRODUCT URL"
   ]
  },
  {
   "cell_type": "code",
   "execution_count": 43,
   "id": "76a2c2a6",
   "metadata": {},
   "outputs": [],
   "source": [
    "url = []\n",
    "a = bs(str(findall))\n",
    "a = a.findAll(\"a\" ,attrs={\"class\",\"product-item-inner-wrap\"})\n",
    "for i in a:\n",
    "    url.append(\"https://www.tops.co.th\"+i.get(\"href\"))"
   ]
  },
  {
   "cell_type": "markdown",
   "id": "f8127c06",
   "metadata": {},
   "source": [
    "### GENRE OF PRODUCT"
   ]
  },
  {
   "cell_type": "code",
   "execution_count": 44,
   "id": "176f1021",
   "metadata": {
    "scrolled": false
   },
   "outputs": [],
   "source": [
    "categories = []\n",
    "a = bs(str(findall))\n",
    "a = a.findAll(\"div\" ,attrs={\"class\",\"mt-product-item mt-product-item Js-trackProductClick\"})\n",
    "for i in a:\n",
    "    i = re.sub(\"^\\d+>\",\"\",i[\"data-productcategory\"])\n",
    "    i = i.replace(\" \",\"\")\n",
    "    categories.append(i)"
   ]
  },
  {
   "cell_type": "markdown",
   "id": "1ab73255",
   "metadata": {},
   "source": [
    "# START MERGING"
   ]
  },
  {
   "cell_type": "code",
   "execution_count": 75,
   "id": "a84da395",
   "metadata": {},
   "outputs": [
    {
     "data": {
      "text/html": [
       "<div>\n",
       "<style scoped>\n",
       "    .dataframe tbody tr th:only-of-type {\n",
       "        vertical-align: middle;\n",
       "    }\n",
       "\n",
       "    .dataframe tbody tr th {\n",
       "        vertical-align: top;\n",
       "    }\n",
       "\n",
       "    .dataframe thead th {\n",
       "        text-align: right;\n",
       "    }\n",
       "</style>\n",
       "<table border=\"1\" class=\"dataframe\">\n",
       "  <thead>\n",
       "    <tr style=\"text-align: right;\">\n",
       "      <th></th>\n",
       "      <th>Name</th>\n",
       "      <th>Price</th>\n",
       "      <th>Unit</th>\n",
       "      <th>Category</th>\n",
       "      <th>URL</th>\n",
       "    </tr>\n",
       "  </thead>\n",
       "  <tbody>\n",
       "    <tr>\n",
       "      <th>0</th>\n",
       "      <td>ฮิลไทรบ์ไข่ไก่ออร์แกนิคแพค 10ฟอง</td>\n",
       "      <td>91.0</td>\n",
       "      <td>แพค</td>\n",
       "      <td>FreshEggs</td>\n",
       "      <td>https://www.tops.co.th/th/hilltribe-organic-eg...</td>\n",
       "    </tr>\n",
       "    <tr>\n",
       "      <th>1</th>\n",
       "      <td>ฮิลไทรบ์ไข่ไก่ออร์แกนิคขนาดใหญ่แพค 6ฟอง</td>\n",
       "      <td>65.0</td>\n",
       "      <td>แพค</td>\n",
       "      <td>FreshEggs</td>\n",
       "      <td>https://www.tops.co.th/th/hilltribe-organic-eg...</td>\n",
       "    </tr>\n",
       "    <tr>\n",
       "      <th>2</th>\n",
       "      <td>แดรี่โฮมนมสดกราสเฟด 200ซีซี</td>\n",
       "      <td>27.0</td>\n",
       "      <td>ชิ้น</td>\n",
       "      <td>PlainMilk</td>\n",
       "      <td>https://www.tops.co.th/th/daily-home-pasteuriz...</td>\n",
       "    </tr>\n",
       "    <tr>\n",
       "      <th>3</th>\n",
       "      <td>แดรี่โฮมนมสดรสบัตเตอร์สก็อตซ์ 200ซีซี</td>\n",
       "      <td>28.0</td>\n",
       "      <td>ชิ้น</td>\n",
       "      <td>FlavoredMilk</td>\n",
       "      <td>https://www.tops.co.th/th/daily-home-pasteuriz...</td>\n",
       "    </tr>\n",
       "    <tr>\n",
       "      <th>4</th>\n",
       "      <td>แดรี่โฮมนมสดไขมันต่ำ 200ซีซี</td>\n",
       "      <td>20.0</td>\n",
       "      <td>ชิ้น</td>\n",
       "      <td>PlainMilk</td>\n",
       "      <td>https://www.tops.co.th/th/dairy-home-pasteuriz...</td>\n",
       "    </tr>\n",
       "    <tr>\n",
       "      <th>...</th>\n",
       "      <td>...</td>\n",
       "      <td>...</td>\n",
       "      <td>...</td>\n",
       "      <td>...</td>\n",
       "      <td>...</td>\n",
       "    </tr>\n",
       "    <tr>\n",
       "      <th>192</th>\n",
       "      <td>ไฮนซ์น้ำส้มสายชูหมักจากแอปเปิ้ลออร์แกนิคไม่ผ่า...</td>\n",
       "      <td>480.0</td>\n",
       "      <td>ชิ้น</td>\n",
       "      <td>CookingVinegar</td>\n",
       "      <td>https://www.tops.co.th/th/heinz-unfiltered-app...</td>\n",
       "    </tr>\n",
       "    <tr>\n",
       "      <th>193</th>\n",
       "      <td>โคลส์เนยถั่วลิสงชนิดบดละเอียด 500กรัม</td>\n",
       "      <td>185.0</td>\n",
       "      <td>ชิ้น</td>\n",
       "      <td>PeanutButter</td>\n",
       "      <td>https://www.tops.co.th/th/coles-peanut-butter-...</td>\n",
       "    </tr>\n",
       "    <tr>\n",
       "      <th>194</th>\n",
       "      <td>บ๊อบส์เรดมิลล์ออร์แกนิคสเปลท์ฟลาวร์ 567กรัม</td>\n",
       "      <td>285.0</td>\n",
       "      <td>ชิ้น</td>\n",
       "      <td>Flour</td>\n",
       "      <td>https://www.tops.co.th/th/bobs-red-mill-organi...</td>\n",
       "    </tr>\n",
       "    <tr>\n",
       "      <th>195</th>\n",
       "      <td>เวทโทรสดัชชี่ออร์แกนิคสโตนกราวด์โฮลมีลแป้งสาลี...</td>\n",
       "      <td>179.0</td>\n",
       "      <td>ชิ้น</td>\n",
       "      <td>Flour</td>\n",
       "      <td>https://www.tops.co.th/th/waitrose-duchy-organ...</td>\n",
       "    </tr>\n",
       "    <tr>\n",
       "      <th>196</th>\n",
       "      <td>ดีน่าโทนิวน้ำเต้าหู้ออร์แกนิค 180มล.แพค4</td>\n",
       "      <td>38.0</td>\n",
       "      <td>แพค</td>\n",
       "      <td>UHTDairyFree</td>\n",
       "      <td>https://www.tops.co.th/th/dna-tonyu-organic-so...</td>\n",
       "    </tr>\n",
       "  </tbody>\n",
       "</table>\n",
       "<p>197 rows × 5 columns</p>\n",
       "</div>"
      ],
      "text/plain": [
       "                                                  Name  Price  Unit  \\\n",
       "0                     ฮิลไทรบ์ไข่ไก่ออร์แกนิคแพค 10ฟอง   91.0   แพค   \n",
       "1              ฮิลไทรบ์ไข่ไก่ออร์แกนิคขนาดใหญ่แพค 6ฟอง   65.0   แพค   \n",
       "2                          แดรี่โฮมนมสดกราสเฟด 200ซีซี   27.0  ชิ้น   \n",
       "3                แดรี่โฮมนมสดรสบัตเตอร์สก็อตซ์ 200ซีซี   28.0  ชิ้น   \n",
       "4                         แดรี่โฮมนมสดไขมันต่ำ 200ซีซี   20.0  ชิ้น   \n",
       "..                                                 ...    ...   ...   \n",
       "192  ไฮนซ์น้ำส้มสายชูหมักจากแอปเปิ้ลออร์แกนิคไม่ผ่า...  480.0  ชิ้น   \n",
       "193              โคลส์เนยถั่วลิสงชนิดบดละเอียด 500กรัม  185.0  ชิ้น   \n",
       "194        บ๊อบส์เรดมิลล์ออร์แกนิคสเปลท์ฟลาวร์ 567กรัม  285.0  ชิ้น   \n",
       "195  เวทโทรสดัชชี่ออร์แกนิคสโตนกราวด์โฮลมีลแป้งสาลี...  179.0  ชิ้น   \n",
       "196           ดีน่าโทนิวน้ำเต้าหู้ออร์แกนิค 180มล.แพค4   38.0   แพค   \n",
       "\n",
       "           Category                                                URL  \n",
       "0         FreshEggs  https://www.tops.co.th/th/hilltribe-organic-eg...  \n",
       "1         FreshEggs  https://www.tops.co.th/th/hilltribe-organic-eg...  \n",
       "2         PlainMilk  https://www.tops.co.th/th/daily-home-pasteuriz...  \n",
       "3      FlavoredMilk  https://www.tops.co.th/th/daily-home-pasteuriz...  \n",
       "4         PlainMilk  https://www.tops.co.th/th/dairy-home-pasteuriz...  \n",
       "..              ...                                                ...  \n",
       "192  CookingVinegar  https://www.tops.co.th/th/heinz-unfiltered-app...  \n",
       "193    PeanutButter  https://www.tops.co.th/th/coles-peanut-butter-...  \n",
       "194           Flour  https://www.tops.co.th/th/bobs-red-mill-organi...  \n",
       "195           Flour  https://www.tops.co.th/th/waitrose-duchy-organ...  \n",
       "196    UHTDairyFree  https://www.tops.co.th/th/dna-tonyu-organic-so...  \n",
       "\n",
       "[197 rows x 5 columns]"
      ]
     },
     "execution_count": 75,
     "metadata": {},
     "output_type": "execute_result"
    }
   ],
   "source": [
    "content_df = pd.DataFrame({'Name': name,\n",
    "                          'Price': price,\n",
    "                          'Unit': unit,\n",
    "                           'Category': categories,\n",
    "                          'URL': url})\n",
    "content_df"
   ]
  },
  {
   "cell_type": "code",
   "execution_count": 77,
   "id": "0fae3bd7",
   "metadata": {},
   "outputs": [],
   "source": [
    "content_df.to_csv(r'C:\\Users\\tanna\\OneDrive\\เดสก์ท็อป\\DSI2022\\dsi314\\tops\\tops.csv',index=False,encoding='utf-8')"
   ]
  },
  {
   "cell_type": "code",
   "execution_count": null,
   "id": "472b98dc",
   "metadata": {},
   "outputs": [],
   "source": []
  }
 ],
 "metadata": {
  "kernelspec": {
   "display_name": "Python 3",
   "language": "python",
   "name": "python3"
  },
  "language_info": {
   "codemirror_mode": {
    "name": "ipython",
    "version": 3
   },
   "file_extension": ".py",
   "mimetype": "text/x-python",
   "name": "python",
   "nbconvert_exporter": "python",
   "pygments_lexer": "ipython3",
   "version": "3.6.12"
  }
 },
 "nbformat": 4,
 "nbformat_minor": 5
}
