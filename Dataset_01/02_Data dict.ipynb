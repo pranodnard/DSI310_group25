{
 "cells": [
  {
   "cell_type": "markdown",
   "id": "8776c1ef-4830-4d67-87b0-55be1e69c995",
   "metadata": {},
   "source": [
    "# 02_entiry-extract\n",
    "- entity extraction from news description using trasnformer `Davlan/xlm-roberta-base-ner-hrl`"
   ]
  },
  {
   "cell_type": "markdown",
   "id": "573b8282-c8f8-4a21-9e01-637bb228ff05",
   "metadata": {},
   "source": [
    "### install extra library"
   ]
  },
  {
   "cell_type": "code",
   "execution_count": 1,
   "id": "8a803140-e672-477e-bebb-d32f1e554b54",
   "metadata": {
    "tags": []
   },
   "outputs": [
    {
     "name": "stdout",
     "output_type": "stream",
     "text": [
      "Requirement already satisfied: transformers in /opt/conda/lib/python3.10/site-packages (4.23.1)\n",
      "Requirement already satisfied: torch in /opt/conda/lib/python3.10/site-packages (1.12.1)\n",
      "Requirement already satisfied: filelock in /opt/conda/lib/python3.10/site-packages (from transformers) (3.8.0)\n",
      "Requirement already satisfied: tqdm>=4.27 in /opt/conda/lib/python3.10/site-packages (from transformers) (4.64.0)\n",
      "Requirement already satisfied: pyyaml>=5.1 in /opt/conda/lib/python3.10/site-packages (from transformers) (6.0)\n",
      "Requirement already satisfied: regex!=2019.12.17 in /opt/conda/lib/python3.10/site-packages (from transformers) (2022.9.13)\n",
      "Requirement already satisfied: tokenizers!=0.11.3,<0.14,>=0.11.1 in /opt/conda/lib/python3.10/site-packages (from transformers) (0.13.1)\n",
      "Requirement already satisfied: huggingface-hub<1.0,>=0.10.0 in /opt/conda/lib/python3.10/site-packages (from transformers) (0.10.1)\n",
      "Requirement already satisfied: numpy>=1.17 in /opt/conda/lib/python3.10/site-packages (from transformers) (1.22.4)\n",
      "Requirement already satisfied: requests in /opt/conda/lib/python3.10/site-packages (from transformers) (2.28.1)\n",
      "Requirement already satisfied: packaging>=20.0 in /opt/conda/lib/python3.10/site-packages (from transformers) (21.3)\n",
      "Requirement already satisfied: typing-extensions in /opt/conda/lib/python3.10/site-packages (from torch) (4.3.0)\n",
      "Requirement already satisfied: pyparsing!=3.0.5,>=2.0.2 in /opt/conda/lib/python3.10/site-packages (from packaging>=20.0->transformers) (3.0.9)\n",
      "Requirement already satisfied: charset-normalizer<3,>=2 in /opt/conda/lib/python3.10/site-packages (from requests->transformers) (2.1.0)\n",
      "Requirement already satisfied: idna<4,>=2.5 in /opt/conda/lib/python3.10/site-packages (from requests->transformers) (3.3)\n",
      "Requirement already satisfied: certifi>=2017.4.17 in /opt/conda/lib/python3.10/site-packages (from requests->transformers) (2022.6.15)\n",
      "Requirement already satisfied: urllib3<1.27,>=1.21.1 in /opt/conda/lib/python3.10/site-packages (from requests->transformers) (1.26.11)\n",
      "Requirement already satisfied: sentencepiece in /opt/conda/lib/python3.10/site-packages (0.1.97)\n"
     ]
    }
   ],
   "source": [
    "!pip install transformers torch\n",
    "!pip install sentencepiece"
   ]
  },
  {
   "cell_type": "markdown",
   "id": "d395e9eb-6ddb-4c6e-a492-b9399b63dc08",
   "metadata": {},
   "source": [
    "### read stored data from DataPlatform"
   ]
  },
  {
   "cell_type": "code",
   "execution_count": 2,
   "id": "fca0f4c3-5b5a-4515-b714-c5dd12c622e3",
   "metadata": {},
   "outputs": [],
   "source": [
    "from dsmlibrary.datanode import DataNode\n",
    "import json\n",
    "from tqdm.auto import tqdm\n",
    "import pandas as pd"
   ]
  },
  {
   "cell_type": "code",
   "execution_count": 3,
   "id": "c882c18e-5ae9-4a38-bcfc-ea730be0986b",
   "metadata": {},
   "outputs": [],
   "source": [
    "dir_raw_id = 96\n",
    "dir_process_id = 97"
   ]
  },
  {
   "cell_type": "code",
   "execution_count": 4,
   "id": "727cf12f-b64b-48ea-a304-07be454a5143",
   "metadata": {},
   "outputs": [
    {
     "name": "stdout",
     "output_type": "stream",
     "text": [
      "Init DataNode sucessful!\n"
     ]
    }
   ],
   "source": [
    "datanode = DataNode()"
   ]
  },
  {
   "cell_type": "code",
   "execution_count": 5,
   "id": "a36adc7d-df3e-4e6e-9817-a96efa197382",
   "metadata": {},
   "outputs": [
    {
     "data": {
      "text/plain": [
       "{'owner': 'pranodnard',\n",
       " 'human_size': '81.32 KB',\n",
       " 'name': 'Tops_raw.json',\n",
       " 'description': '-',\n",
       " 'directory': 96,\n",
       " 'path': 'pranodnard/DSI310-25/raw/Tops_raw.json'}"
      ]
     },
     "execution_count": 5,
     "metadata": {},
     "output_type": "execute_result"
    }
   ],
   "source": [
    "meta, fp = datanode.get_file(datanode.get_file_id(directory_id=dir_raw_id, name='Tops_raw.json'))\n",
    "meta"
   ]
  },
  {
   "cell_type": "code",
   "execution_count": null,
   "id": "2df0dc68-08ca-4c88-af38-3f996c0c5062",
   "metadata": {
    "tags": []
   },
   "outputs": [],
   "source": [
    "data = json.load(fp)\n",
    "data"
   ]
  },
  {
   "cell_type": "code",
   "execution_count": 7,
   "id": "01d4599d-70e2-4082-8e2b-2f851023753e",
   "metadata": {},
   "outputs": [
    {
     "data": {
      "text/html": [
       "<div>\n",
       "<style scoped>\n",
       "    .dataframe tbody tr th:only-of-type {\n",
       "        vertical-align: middle;\n",
       "    }\n",
       "\n",
       "    .dataframe tbody tr th {\n",
       "        vertical-align: top;\n",
       "    }\n",
       "\n",
       "    .dataframe thead th {\n",
       "        text-align: right;\n",
       "    }\n",
       "</style>\n",
       "<table border=\"1\" class=\"dataframe\">\n",
       "  <thead>\n",
       "    <tr style=\"text-align: right;\">\n",
       "      <th></th>\n",
       "      <th>Name</th>\n",
       "      <th>Price</th>\n",
       "      <th>Unit</th>\n",
       "      <th>Category</th>\n",
       "      <th>URL</th>\n",
       "    </tr>\n",
       "  </thead>\n",
       "  <tbody>\n",
       "    <tr>\n",
       "      <th>0</th>\n",
       "      <td>ซันบลาสน้ำแอปเปิ้ลเชอร์รี่ออร์แกนิก100เปอร์เซ็...</td>\n",
       "      <td>35</td>\n",
       "      <td>ชิ้น</td>\n",
       "      <td>100%Juice</td>\n",
       "      <td>https://www.tops.co.th/th/sunblast-apple-cherr...</td>\n",
       "    </tr>\n",
       "    <tr>\n",
       "      <th>1</th>\n",
       "      <td>ซันบลาสน้ำแอปเปิ้ลผสมมะม่วงออร์แกนิก100เปอร์เซ...</td>\n",
       "      <td>35</td>\n",
       "      <td>ชิ้น</td>\n",
       "      <td>100%Juice</td>\n",
       "      <td>https://www.tops.co.th/th/sunblast-apple-mango...</td>\n",
       "    </tr>\n",
       "    <tr>\n",
       "      <th>2</th>\n",
       "      <td>แพร์คอเรลลา</td>\n",
       "      <td>299</td>\n",
       "      <td>กก.</td>\n",
       "      <td>Apples&amp;Pears</td>\n",
       "      <td>https://www.tops.co.th/th/corella-pear-0215056...</td>\n",
       "    </tr>\n",
       "    <tr>\n",
       "      <th>3</th>\n",
       "      <td>เบบี้เนเชอร่าข้าวไรซ์เบอร์รี่ออร์แกนิกอบกรอบรส...</td>\n",
       "      <td>125</td>\n",
       "      <td>กป.</td>\n",
       "      <td>BabyFood</td>\n",
       "      <td>https://www.tops.co.th/th/baby-natura-organic-...</td>\n",
       "    </tr>\n",
       "    <tr>\n",
       "      <th>4</th>\n",
       "      <td>โดโซะเบบี้ไบท์ข้าวหอมญี่ปุ่นอบกรอบออร์แกนิครสแ...</td>\n",
       "      <td>82</td>\n",
       "      <td>กล่อง</td>\n",
       "      <td>BabyFood</td>\n",
       "      <td>https://www.tops.co.th/th/dozo-baby-bite-japan...</td>\n",
       "    </tr>\n",
       "    <tr>\n",
       "      <th>...</th>\n",
       "      <td>...</td>\n",
       "      <td>...</td>\n",
       "      <td>...</td>\n",
       "      <td>...</td>\n",
       "      <td>...</td>\n",
       "    </tr>\n",
       "    <tr>\n",
       "      <th>228</th>\n",
       "      <td>โทฟุซังนมถั่วเหลืองออร์แกนิคสูตรหวานน้อย 230มล...</td>\n",
       "      <td>36</td>\n",
       "      <td>แพค</td>\n",
       "      <td>UHTDairyFree</td>\n",
       "      <td>https://www.tops.co.th/th/tofusan-uht-organic-...</td>\n",
       "    </tr>\n",
       "    <tr>\n",
       "      <th>229</th>\n",
       "      <td>โทฟุซังนมถั่วเหลืองออร์แกนิครสออริจินอล 230มล....</td>\n",
       "      <td>36</td>\n",
       "      <td>แพค</td>\n",
       "      <td>UHTDairyFree</td>\n",
       "      <td>https://www.tops.co.th/th/tofusan-uht-organic-...</td>\n",
       "    </tr>\n",
       "    <tr>\n",
       "      <th>230</th>\n",
       "      <td>เพียวฮาร์เวสต์ออสซี่ดรีมน้ำนมข้าวกล้องออร์แกนิ...</td>\n",
       "      <td>145</td>\n",
       "      <td>กล่อง</td>\n",
       "      <td>UHTDairyFree</td>\n",
       "      <td>https://www.tops.co.th/th/pureharvest-aussie-d...</td>\n",
       "    </tr>\n",
       "    <tr>\n",
       "      <th>231</th>\n",
       "      <td>บอนซอยนมถั่วเหลืองออร์แกนิคขนาด 1ลิตร</td>\n",
       "      <td>195</td>\n",
       "      <td>ชิ้น</td>\n",
       "      <td>UHTDairyFree</td>\n",
       "      <td>https://www.tops.co.th/th/bonsoy-soy-milk-orga...</td>\n",
       "    </tr>\n",
       "    <tr>\n",
       "      <th>232</th>\n",
       "      <td>ดีน่าโทนิวน้ำเต้าหู้ออร์แกนิค 180มล.แพค4</td>\n",
       "      <td>38</td>\n",
       "      <td>แพค</td>\n",
       "      <td>UHTDairyFree</td>\n",
       "      <td>https://www.tops.co.th/th/dna-tonyu-organic-so...</td>\n",
       "    </tr>\n",
       "  </tbody>\n",
       "</table>\n",
       "<p>233 rows × 5 columns</p>\n",
       "</div>"
      ],
      "text/plain": [
       "                                                  Name Price   Unit  \\\n",
       "0    ซันบลาสน้ำแอปเปิ้ลเชอร์รี่ออร์แกนิก100เปอร์เซ็...    35   ชิ้น   \n",
       "1    ซันบลาสน้ำแอปเปิ้ลผสมมะม่วงออร์แกนิก100เปอร์เซ...    35   ชิ้น   \n",
       "2                                          แพร์คอเรลลา   299    กก.   \n",
       "3    เบบี้เนเชอร่าข้าวไรซ์เบอร์รี่ออร์แกนิกอบกรอบรส...   125    กป.   \n",
       "4    โดโซะเบบี้ไบท์ข้าวหอมญี่ปุ่นอบกรอบออร์แกนิครสแ...    82  กล่อง   \n",
       "..                                                 ...   ...    ...   \n",
       "228  โทฟุซังนมถั่วเหลืองออร์แกนิคสูตรหวานน้อย 230มล...    36    แพค   \n",
       "229  โทฟุซังนมถั่วเหลืองออร์แกนิครสออริจินอล 230มล....    36    แพค   \n",
       "230  เพียวฮาร์เวสต์ออสซี่ดรีมน้ำนมข้าวกล้องออร์แกนิ...   145  กล่อง   \n",
       "231              บอนซอยนมถั่วเหลืองออร์แกนิคขนาด 1ลิตร   195   ชิ้น   \n",
       "232           ดีน่าโทนิวน้ำเต้าหู้ออร์แกนิค 180มล.แพค4    38    แพค   \n",
       "\n",
       "         Category                                                URL  \n",
       "0       100%Juice  https://www.tops.co.th/th/sunblast-apple-cherr...  \n",
       "1       100%Juice  https://www.tops.co.th/th/sunblast-apple-mango...  \n",
       "2    Apples&Pears  https://www.tops.co.th/th/corella-pear-0215056...  \n",
       "3        BabyFood  https://www.tops.co.th/th/baby-natura-organic-...  \n",
       "4        BabyFood  https://www.tops.co.th/th/dozo-baby-bite-japan...  \n",
       "..            ...                                                ...  \n",
       "228  UHTDairyFree  https://www.tops.co.th/th/tofusan-uht-organic-...  \n",
       "229  UHTDairyFree  https://www.tops.co.th/th/tofusan-uht-organic-...  \n",
       "230  UHTDairyFree  https://www.tops.co.th/th/pureharvest-aussie-d...  \n",
       "231  UHTDairyFree  https://www.tops.co.th/th/bonsoy-soy-milk-orga...  \n",
       "232  UHTDairyFree  https://www.tops.co.th/th/dna-tonyu-organic-so...  \n",
       "\n",
       "[233 rows x 5 columns]"
      ]
     },
     "execution_count": 7,
     "metadata": {},
     "output_type": "execute_result"
    }
   ],
   "source": [
    "df = pd.json_normalize(data)\n",
    "df"
   ]
  },
  {
   "cell_type": "markdown",
   "id": "1b4009ec-70e2-45a7-b9e9-e7cc01f480d8",
   "metadata": {},
   "source": [
    "### Process Tops_raw to ข้อมูลชุดที่1"
   ]
  },
  {
   "cell_type": "markdown",
   "id": "29ea489b-00b1-474a-a4b9-7dac580410bb",
   "metadata": {},
   "source": [
    "### write DataNode to DataPlatform"
   ]
  },
  {
   "cell_type": "code",
   "execution_count": 22,
   "id": "b8c7855f-acef-4074-9cf8-6562a2a55682",
   "metadata": {},
   "outputs": [
    {
     "data": {
      "text/plain": [
       "{'sucess': True,\n",
       " 'file_id': 287,\n",
       " 'path': 'pranodnard/DSI310-25/process/ข้อมูลชุดที่1_รายการสินค้าออแกนิคจาก Tops.parquet',\n",
       " 'lineage': True}"
      ]
     },
     "execution_count": 22,
     "metadata": {},
     "output_type": "execute_result"
    }
   ],
   "source": [
    "datanode.write(df=df, \n",
    "               directory=dir_process_id, \n",
    "               name=\"ข้อมูลชุดที่1_รายการสินค้าออแกนิคจาก Tops\", \n",
    "               profiling=True, \n",
    "               lineage=[datanode.get_file_id(directory_id=dir_raw_id, name='Tops_raw.json')],\n",
    "               description= \"ข้อมูลชุดที่1: ข้อมูลสินค้าออแกนิคที่จำหน่ายใน Tops Supermarket ประกอบไปด้วยหัวข้อ ชื่อสินค้า ราคาสินค้า หน่วยของสินค้า URL(สินค้า) ซึ่งเก็บข้อมูลเมื่อ 23/10/2565 จากเว็บไซต์ Tops Supermarket เพื่อนำมาใช้วิเคราะห์หาความสัมพันธ์ของสินค้าแต่ละประเภทกับราคา สำหรับต่อยอดสู่การวางแผนธุรกิจ โดยกระบวนการรวบรวมข้อมูลคือการ scrap จากหน้าเว็บไซต์ของ Tops (https://github.com/pranodnard/DSI310_group25.git)\" )"
   ]
  },
  {
   "cell_type": "code",
   "execution_count": null,
   "id": "d24a8cb6-daf4-4954-96d6-d505ab4ddc8f",
   "metadata": {},
   "outputs": [],
   "source": []
  }
 ],
 "metadata": {
  "kernelspec": {
   "display_name": "Python 3 (ipykernel)",
   "language": "python",
   "name": "python3"
  },
  "language_info": {
   "codemirror_mode": {
    "name": "ipython",
    "version": 3
   },
   "file_extension": ".py",
   "mimetype": "text/x-python",
   "name": "python",
   "nbconvert_exporter": "python",
   "pygments_lexer": "ipython3",
   "version": "3.10.5"
  }
 },
 "nbformat": 4,
 "nbformat_minor": 5
}
