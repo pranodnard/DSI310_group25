{
 "cells": [
  {
   "cell_type": "markdown",
   "id": "8776c1ef-4830-4d67-87b0-55be1e69c995",
   "metadata": {},
   "source": [
    "# 02_entiry-extract\n",
    "- entity extraction from news description using trasnformer `Davlan/xlm-roberta-base-ner-hrl`"
   ]
  },
  {
   "cell_type": "markdown",
   "id": "573b8282-c8f8-4a21-9e01-637bb228ff05",
   "metadata": {},
   "source": [
    "### install extra library"
   ]
  },
  {
   "cell_type": "code",
   "execution_count": 1,
   "id": "8a803140-e672-477e-bebb-d32f1e554b54",
   "metadata": {
    "tags": []
   },
   "outputs": [
    {
     "name": "stdout",
     "output_type": "stream",
     "text": [
      "Requirement already satisfied: transformers in /opt/conda/lib/python3.10/site-packages (4.23.1)\n",
      "Requirement already satisfied: torch in /opt/conda/lib/python3.10/site-packages (1.12.1)\n",
      "Requirement already satisfied: numpy>=1.17 in /opt/conda/lib/python3.10/site-packages (from transformers) (1.22.4)\n",
      "Requirement already satisfied: tqdm>=4.27 in /opt/conda/lib/python3.10/site-packages (from transformers) (4.64.0)\n",
      "Requirement already satisfied: regex!=2019.12.17 in /opt/conda/lib/python3.10/site-packages (from transformers) (2022.9.13)\n",
      "Requirement already satisfied: filelock in /opt/conda/lib/python3.10/site-packages (from transformers) (3.8.0)\n",
      "Requirement already satisfied: huggingface-hub<1.0,>=0.10.0 in /opt/conda/lib/python3.10/site-packages (from transformers) (0.10.1)\n",
      "Requirement already satisfied: pyyaml>=5.1 in /opt/conda/lib/python3.10/site-packages (from transformers) (6.0)\n",
      "Requirement already satisfied: requests in /opt/conda/lib/python3.10/site-packages (from transformers) (2.28.1)\n",
      "Requirement already satisfied: tokenizers!=0.11.3,<0.14,>=0.11.1 in /opt/conda/lib/python3.10/site-packages (from transformers) (0.13.1)\n",
      "Requirement already satisfied: packaging>=20.0 in /opt/conda/lib/python3.10/site-packages (from transformers) (21.3)\n",
      "Requirement already satisfied: typing-extensions in /opt/conda/lib/python3.10/site-packages (from torch) (4.3.0)\n",
      "Requirement already satisfied: pyparsing!=3.0.5,>=2.0.2 in /opt/conda/lib/python3.10/site-packages (from packaging>=20.0->transformers) (3.0.9)\n",
      "Requirement already satisfied: certifi>=2017.4.17 in /opt/conda/lib/python3.10/site-packages (from requests->transformers) (2022.6.15)\n",
      "Requirement already satisfied: charset-normalizer<3,>=2 in /opt/conda/lib/python3.10/site-packages (from requests->transformers) (2.1.0)\n",
      "Requirement already satisfied: idna<4,>=2.5 in /opt/conda/lib/python3.10/site-packages (from requests->transformers) (3.3)\n",
      "Requirement already satisfied: urllib3<1.27,>=1.21.1 in /opt/conda/lib/python3.10/site-packages (from requests->transformers) (1.26.11)\n",
      "Requirement already satisfied: sentencepiece in /opt/conda/lib/python3.10/site-packages (0.1.97)\n"
     ]
    }
   ],
   "source": [
    "!pip install transformers torch\n",
    "!pip install sentencepiece"
   ]
  },
  {
   "cell_type": "markdown",
   "id": "d395e9eb-6ddb-4c6e-a492-b9399b63dc08",
   "metadata": {},
   "source": [
    "### read stored data from DataPlatform"
   ]
  },
  {
   "cell_type": "code",
   "execution_count": 2,
   "id": "fca0f4c3-5b5a-4515-b714-c5dd12c622e3",
   "metadata": {},
   "outputs": [],
   "source": [
    "from dsmlibrary.datanode import DataNode\n",
    "import json\n",
    "from tqdm.auto import tqdm\n",
    "import pandas as pd"
   ]
  },
  {
   "cell_type": "code",
   "execution_count": 3,
   "id": "c882c18e-5ae9-4a38-bcfc-ea730be0986b",
   "metadata": {},
   "outputs": [],
   "source": [
    "dir_raw_id = 96\n",
    "dir_process_id = 97"
   ]
  },
  {
   "cell_type": "code",
   "execution_count": 4,
   "id": "727cf12f-b64b-48ea-a304-07be454a5143",
   "metadata": {},
   "outputs": [
    {
     "name": "stdout",
     "output_type": "stream",
     "text": [
      "Init DataNode sucessful!\n"
     ]
    }
   ],
   "source": [
    "datanode = DataNode()"
   ]
  },
  {
   "cell_type": "code",
   "execution_count": 5,
   "id": "a36adc7d-df3e-4e6e-9817-a96efa197382",
   "metadata": {},
   "outputs": [
    {
     "data": {
      "text/plain": [
       "{'owner': 'pranodnard',\n",
       " 'human_size': '81.32 KB',\n",
       " 'name': 'Tops_raw.json',\n",
       " 'description': '-',\n",
       " 'directory': 96,\n",
       " 'path': 'pranodnard/DSI310-25/raw/Tops_raw.json'}"
      ]
     },
     "execution_count": 5,
     "metadata": {},
     "output_type": "execute_result"
    }
   ],
   "source": [
    "meta, fp = datanode.get_file(datanode.get_file_id(directory_id=dir_raw_id, name='Tops_raw.json'))\n",
    "meta"
   ]
  },
  {
   "cell_type": "code",
   "execution_count": null,
   "id": "2df0dc68-08ca-4c88-af38-3f996c0c5062",
   "metadata": {
    "tags": []
   },
   "outputs": [],
   "source": [
    "data = json.load(fp)\n",
    "data"
   ]
  },
  {
   "cell_type": "code",
   "execution_count": 7,
   "id": "01d4599d-70e2-4082-8e2b-2f851023753e",
   "metadata": {},
   "outputs": [
    {
     "data": {
      "text/plain": [
       "0      {'Name': 'ซันบลาสน้ำแอปเปิ้ลเชอร์รี่ออร์แกนิก1...\n",
       "1      {'Name': 'ซันบลาสน้ำแอปเปิ้ลผสมมะม่วงออร์แกนิก...\n",
       "2      {'Name': 'แพร์คอเรลลา', 'Price': '299', 'Unit'...\n",
       "3      {'Name': 'เบบี้เนเชอร่าข้าวไรซ์เบอร์รี่ออร์แกน...\n",
       "4      {'Name': 'โดโซะเบบี้ไบท์ข้าวหอมญี่ปุ่นอบกรอบออ...\n",
       "                             ...                        \n",
       "228    {'Name': 'โทฟุซังนมถั่วเหลืองออร์แกนิคสูตรหวาน...\n",
       "229    {'Name': 'โทฟุซังนมถั่วเหลืองออร์แกนิครสออริจิ...\n",
       "230    {'Name': 'เพียวฮาร์เวสต์ออสซี่ดรีมน้ำนมข้าวกล้...\n",
       "231    {'Name': 'บอนซอยนมถั่วเหลืองออร์แกนิคขนาด 1ลิต...\n",
       "232    {'Name': 'ดีน่าโทนิวน้ำเต้าหู้ออร์แกนิค 180มล....\n",
       "Length: 233, dtype: object"
      ]
     },
     "execution_count": 7,
     "metadata": {},
     "output_type": "execute_result"
    }
   ],
   "source": [
    "df1 = pd.Series(data)\n",
    "df1"
   ]
  },
  {
   "cell_type": "markdown",
   "id": "e73cf1a4-1d23-41af-98df-74d45fd70899",
   "metadata": {},
   "source": [
    "### NER (NameEntitiesRegcognition)\n",
    "- extract entity from news description"
   ]
  },
  {
   "cell_type": "code",
   "execution_count": 8,
   "id": "b335db10-39da-4a44-8f4f-801957090981",
   "metadata": {},
   "outputs": [],
   "source": [
    "from transformers import AutoTokenizer, AutoModelForTokenClassification\n",
    "from transformers import pipeline"
   ]
  },
  {
   "cell_type": "code",
   "execution_count": 9,
   "id": "1bbc003c-e221-4473-9860-1f738d5d0314",
   "metadata": {},
   "outputs": [],
   "source": [
    "tokenizer = AutoTokenizer.from_pretrained(\"Davlan/xlm-roberta-base-ner-hrl\")\n",
    "model = AutoModelForTokenClassification.from_pretrained(\"Davlan/xlm-roberta-base-ner-hrl\")\n",
    "nlp = pipeline(\"ner\", model=model, tokenizer=tokenizer)"
   ]
  },
  {
   "cell_type": "code",
   "execution_count": 10,
   "id": "3ff5e916-b865-4451-a5fe-197abafc08d6",
   "metadata": {},
   "outputs": [
    {
     "name": "stdout",
     "output_type": "stream",
     "text": [
      "[{'entity': 'B-PER', 'score': 0.9993357, 'index': 4, 'word': '▁Wolfgang', 'start': 10, 'end': 19}, {'entity': 'B-LOC', 'score': 0.9990395, 'index': 9, 'word': '▁Berlin', 'start': 33, 'end': 40}]\n"
     ]
    }
   ],
   "source": [
    "example = \"My name is Wolfgang and I live in Berlin\"\n",
    "\n",
    "ner_results = nlp(example)\n",
    "print(ner_results)"
   ]
  },
  {
   "cell_type": "code",
   "execution_count": 11,
   "id": "cfd3078b-553b-41d2-88ca-33acb5ff8b11",
   "metadata": {},
   "outputs": [],
   "source": [
    "import re"
   ]
  },
  {
   "cell_type": "code",
   "execution_count": 12,
   "id": "3717641c-be08-4660-a22a-74707189daab",
   "metadata": {},
   "outputs": [],
   "source": [
    "def post_process(preds):\n",
    "    data = []\n",
    "    for i in range(len(preds)): \n",
    "        a = preds[i]\n",
    "        text = a.get('word')\n",
    "        for j in range(i, len(preds)):\n",
    "            b = preds[j]\n",
    "            if b.get('start') == a.get('end'):\n",
    "                text += b.get('word')\n",
    "                a = b\n",
    "        data.append({\n",
    "            'type': a.get('entity'),\n",
    "            'text': text,\n",
    "            'Product_Name': Tops_raw.get('Name'),\n",
    "            'Product_Price': Tops_raw.get('Price'),\n",
    "            'Product_Unit': Tops_raw.get('Unit'),\n",
    "            'Product_Category': Tops_raw.get('Category'),\n",
    "        })\n",
    "    tmp = []\n",
    "    for elm in data:\n",
    "        text = elm.get('text')\n",
    "        if bool(re.match(\"[ก-๛]|▁\", text)):\n",
    "            elm.update({'text': text.replace('▁', ' ')})\n",
    "            tmp.append(elm)\n",
    "    return tmp"
   ]
  },
  {
   "cell_type": "code",
   "execution_count": 13,
   "id": "79251ff8-6ee2-44e2-a3c8-7d219c74f46b",
   "metadata": {
    "tags": []
   },
   "outputs": [
    {
     "data": {
      "text/plain": [
       "'ซันบลาสน้ำแอปเปิ้ลเชอร์รี่ออร์แกนิก100เปอร์เซ็นต์ 200มล.'"
      ]
     },
     "execution_count": 13,
     "metadata": {},
     "output_type": "execute_result"
    }
   ],
   "source": [
    "text = data[0]['Name']\n",
    "text"
   ]
  },
  {
   "cell_type": "code",
   "execution_count": 14,
   "id": "8c597b55-e95e-4e52-b8ad-db8fe03160ea",
   "metadata": {
    "tags": []
   },
   "outputs": [
    {
     "data": {
      "text/plain": [
       "[{'entity': 'B-ORG',\n",
       "  'score': 0.93881553,\n",
       "  'index': 2,\n",
       "  'word': 'ซัน',\n",
       "  'start': 0,\n",
       "  'end': 3},\n",
       " {'entity': 'I-ORG',\n",
       "  'score': 0.7931354,\n",
       "  'index': 3,\n",
       "  'word': 'บ',\n",
       "  'start': 3,\n",
       "  'end': 4},\n",
       " {'entity': 'I-ORG',\n",
       "  'score': 0.80668145,\n",
       "  'index': 4,\n",
       "  'word': 'ลาส',\n",
       "  'start': 4,\n",
       "  'end': 7}]"
      ]
     },
     "execution_count": 14,
     "metadata": {},
     "output_type": "execute_result"
    }
   ],
   "source": [
    "output = nlp(text)\n",
    "output"
   ]
  },
  {
   "cell_type": "code",
   "execution_count": 15,
   "id": "bb274f72-5d41-4e91-906a-a0c2de84ca27",
   "metadata": {
    "tags": []
   },
   "outputs": [
    {
     "ename": "NameError",
     "evalue": "name 'Tops_raw' is not defined",
     "output_type": "error",
     "traceback": [
      "\u001b[0;31m---------------------------------------------------------------------------\u001b[0m",
      "\u001b[0;31mNameError\u001b[0m                                 Traceback (most recent call last)",
      "Input \u001b[0;32mIn [15]\u001b[0m, in \u001b[0;36m<cell line: 1>\u001b[0;34m()\u001b[0m\n\u001b[0;32m----> 1\u001b[0m \u001b[43mpost_process\u001b[49m\u001b[43m(\u001b[49m\u001b[43moutput\u001b[49m\u001b[43m)\u001b[49m\n",
      "Input \u001b[0;32mIn [12]\u001b[0m, in \u001b[0;36mpost_process\u001b[0;34m(preds)\u001b[0m\n\u001b[1;32m      9\u001b[0m             text \u001b[38;5;241m+\u001b[39m\u001b[38;5;241m=\u001b[39m b\u001b[38;5;241m.\u001b[39mget(\u001b[38;5;124m'\u001b[39m\u001b[38;5;124mword\u001b[39m\u001b[38;5;124m'\u001b[39m)\n\u001b[1;32m     10\u001b[0m             a \u001b[38;5;241m=\u001b[39m b\n\u001b[1;32m     11\u001b[0m     data\u001b[38;5;241m.\u001b[39mappend({\n\u001b[1;32m     12\u001b[0m         \u001b[38;5;124m'\u001b[39m\u001b[38;5;124mtype\u001b[39m\u001b[38;5;124m'\u001b[39m: a\u001b[38;5;241m.\u001b[39mget(\u001b[38;5;124m'\u001b[39m\u001b[38;5;124mentity\u001b[39m\u001b[38;5;124m'\u001b[39m),\n\u001b[1;32m     13\u001b[0m         \u001b[38;5;124m'\u001b[39m\u001b[38;5;124mtext\u001b[39m\u001b[38;5;124m'\u001b[39m: text,\n\u001b[0;32m---> 14\u001b[0m         \u001b[38;5;124m'\u001b[39m\u001b[38;5;124mProduct_Name\u001b[39m\u001b[38;5;124m'\u001b[39m: \u001b[43mTops_raw\u001b[49m\u001b[38;5;241m.\u001b[39mget(\u001b[38;5;124m'\u001b[39m\u001b[38;5;124mName\u001b[39m\u001b[38;5;124m'\u001b[39m),\n\u001b[1;32m     15\u001b[0m         \u001b[38;5;124m'\u001b[39m\u001b[38;5;124mProduct_Price\u001b[39m\u001b[38;5;124m'\u001b[39m: Tops_raw\u001b[38;5;241m.\u001b[39mget(\u001b[38;5;124m'\u001b[39m\u001b[38;5;124mPrice\u001b[39m\u001b[38;5;124m'\u001b[39m),\n\u001b[1;32m     16\u001b[0m         \u001b[38;5;124m'\u001b[39m\u001b[38;5;124mProduct_Unit\u001b[39m\u001b[38;5;124m'\u001b[39m: Tops_raw\u001b[38;5;241m.\u001b[39mget(\u001b[38;5;124m'\u001b[39m\u001b[38;5;124mUnit\u001b[39m\u001b[38;5;124m'\u001b[39m),\n\u001b[1;32m     17\u001b[0m         \u001b[38;5;124m'\u001b[39m\u001b[38;5;124mProduct_Category\u001b[39m\u001b[38;5;124m'\u001b[39m: Tops_raw\u001b[38;5;241m.\u001b[39mget(\u001b[38;5;124m'\u001b[39m\u001b[38;5;124mCategory\u001b[39m\u001b[38;5;124m'\u001b[39m),\n\u001b[1;32m     18\u001b[0m     })\n\u001b[1;32m     19\u001b[0m tmp \u001b[38;5;241m=\u001b[39m []\n\u001b[1;32m     20\u001b[0m \u001b[38;5;28;01mfor\u001b[39;00m elm \u001b[38;5;129;01min\u001b[39;00m data:\n",
      "\u001b[0;31mNameError\u001b[0m: name 'Tops_raw' is not defined"
     ]
    }
   ],
   "source": [
    "post_process(output)"
   ]
  },
  {
   "cell_type": "markdown",
   "id": "1b4009ec-70e2-45a7-b9e9-e7cc01f480d8",
   "metadata": {},
   "source": [
    "### Process news to spo"
   ]
  },
  {
   "cell_type": "code",
   "execution_count": 16,
   "id": "6667bb97-89e9-4689-933d-389bea7c12d7",
   "metadata": {},
   "outputs": [
    {
     "data": {
      "application/vnd.jupyter.widget-view+json": {
       "model_id": "c8828d103766460a9b1e14fb4ce02149",
       "version_major": 2,
       "version_minor": 0
      },
      "text/plain": [
       "  0%|          | 0/233 [00:00<?, ?it/s]"
      ]
     },
     "metadata": {},
     "output_type": "display_data"
    }
   ],
   "source": [
    "spo = []\n",
    "for Tops_raw in tqdm(data):\n",
    "    Name = Tops_raw.get('Name') \n",
    "    for kw in Name:\n",
    "        spo.append({\n",
    "            'Product_Name': Tops_raw.get('Name', \"\"),\n",
    "            'Product_Price': Tops_raw.get('Price', \"\"),\n",
    "            'Product_Unit': Tops_raw.get('Unit', \"\"),\n",
    "            'Product_Category': Tops_raw.get('Category', \"\"),\n",
    "        })"
   ]
  },
  {
   "cell_type": "code",
   "execution_count": 17,
   "id": "85df9b84-bee1-4966-9f19-8bbd5fb6505a",
   "metadata": {},
   "outputs": [
    {
     "data": {
      "text/html": [
       "<div>\n",
       "<style scoped>\n",
       "    .dataframe tbody tr th:only-of-type {\n",
       "        vertical-align: middle;\n",
       "    }\n",
       "\n",
       "    .dataframe tbody tr th {\n",
       "        vertical-align: top;\n",
       "    }\n",
       "\n",
       "    .dataframe thead th {\n",
       "        text-align: right;\n",
       "    }\n",
       "</style>\n",
       "<table border=\"1\" class=\"dataframe\">\n",
       "  <thead>\n",
       "    <tr style=\"text-align: right;\">\n",
       "      <th></th>\n",
       "      <th>Product_Name</th>\n",
       "      <th>Product_Price</th>\n",
       "      <th>Product_Unit</th>\n",
       "      <th>Product_Category</th>\n",
       "    </tr>\n",
       "  </thead>\n",
       "  <tbody>\n",
       "    <tr>\n",
       "      <th>0</th>\n",
       "      <td>ซันบลาสน้ำแอปเปิ้ลเชอร์รี่ออร์แกนิก100เปอร์เซ็...</td>\n",
       "      <td>10</td>\n",
       "      <td>ชิ้น</td>\n",
       "      <td>100%Juice</td>\n",
       "    </tr>\n",
       "    <tr>\n",
       "      <th>1</th>\n",
       "      <td>ซันบลาสน้ำแอปเปิ้ลเชอร์รี่ออร์แกนิก100เปอร์เซ็...</td>\n",
       "      <td>10</td>\n",
       "      <td>ชิ้น</td>\n",
       "      <td>100%Juice</td>\n",
       "    </tr>\n",
       "    <tr>\n",
       "      <th>2</th>\n",
       "      <td>ซันบลาสน้ำแอปเปิ้ลเชอร์รี่ออร์แกนิก100เปอร์เซ็...</td>\n",
       "      <td>10</td>\n",
       "      <td>ชิ้น</td>\n",
       "      <td>100%Juice</td>\n",
       "    </tr>\n",
       "    <tr>\n",
       "      <th>3</th>\n",
       "      <td>ซันบลาสน้ำแอปเปิ้ลเชอร์รี่ออร์แกนิก100เปอร์เซ็...</td>\n",
       "      <td>10</td>\n",
       "      <td>ชิ้น</td>\n",
       "      <td>100%Juice</td>\n",
       "    </tr>\n",
       "    <tr>\n",
       "      <th>4</th>\n",
       "      <td>ซันบลาสน้ำแอปเปิ้ลเชอร์รี่ออร์แกนิก100เปอร์เซ็...</td>\n",
       "      <td>10</td>\n",
       "      <td>ชิ้น</td>\n",
       "      <td>100%Juice</td>\n",
       "    </tr>\n",
       "    <tr>\n",
       "      <th>...</th>\n",
       "      <td>...</td>\n",
       "      <td>...</td>\n",
       "      <td>...</td>\n",
       "      <td>...</td>\n",
       "    </tr>\n",
       "    <tr>\n",
       "      <th>9809</th>\n",
       "      <td>ดีน่าโทนิวน้ำเต้าหู้ออร์แกนิค 180มล.แพค4</td>\n",
       "      <td>UH</td>\n",
       "      <td>แพค</td>\n",
       "      <td>UHTDairyFree</td>\n",
       "    </tr>\n",
       "    <tr>\n",
       "      <th>9810</th>\n",
       "      <td>ดีน่าโทนิวน้ำเต้าหู้ออร์แกนิค 180มล.แพค4</td>\n",
       "      <td>UH</td>\n",
       "      <td>แพค</td>\n",
       "      <td>UHTDairyFree</td>\n",
       "    </tr>\n",
       "    <tr>\n",
       "      <th>9811</th>\n",
       "      <td>ดีน่าโทนิวน้ำเต้าหู้ออร์แกนิค 180มล.แพค4</td>\n",
       "      <td>UH</td>\n",
       "      <td>แพค</td>\n",
       "      <td>UHTDairyFree</td>\n",
       "    </tr>\n",
       "    <tr>\n",
       "      <th>9812</th>\n",
       "      <td>ดีน่าโทนิวน้ำเต้าหู้ออร์แกนิค 180มล.แพค4</td>\n",
       "      <td>UH</td>\n",
       "      <td>แพค</td>\n",
       "      <td>UHTDairyFree</td>\n",
       "    </tr>\n",
       "    <tr>\n",
       "      <th>9813</th>\n",
       "      <td>ดีน่าโทนิวน้ำเต้าหู้ออร์แกนิค 180มล.แพค4</td>\n",
       "      <td>UH</td>\n",
       "      <td>แพค</td>\n",
       "      <td>UHTDairyFree</td>\n",
       "    </tr>\n",
       "  </tbody>\n",
       "</table>\n",
       "<p>9814 rows × 4 columns</p>\n",
       "</div>"
      ],
      "text/plain": [
       "                                           Product_Name Product_Price  \\\n",
       "0     ซันบลาสน้ำแอปเปิ้ลเชอร์รี่ออร์แกนิก100เปอร์เซ็...            10   \n",
       "1     ซันบลาสน้ำแอปเปิ้ลเชอร์รี่ออร์แกนิก100เปอร์เซ็...            10   \n",
       "2     ซันบลาสน้ำแอปเปิ้ลเชอร์รี่ออร์แกนิก100เปอร์เซ็...            10   \n",
       "3     ซันบลาสน้ำแอปเปิ้ลเชอร์รี่ออร์แกนิก100เปอร์เซ็...            10   \n",
       "4     ซันบลาสน้ำแอปเปิ้ลเชอร์รี่ออร์แกนิก100เปอร์เซ็...            10   \n",
       "...                                                 ...           ...   \n",
       "9809           ดีน่าโทนิวน้ำเต้าหู้ออร์แกนิค 180มล.แพค4            UH   \n",
       "9810           ดีน่าโทนิวน้ำเต้าหู้ออร์แกนิค 180มล.แพค4            UH   \n",
       "9811           ดีน่าโทนิวน้ำเต้าหู้ออร์แกนิค 180มล.แพค4            UH   \n",
       "9812           ดีน่าโทนิวน้ำเต้าหู้ออร์แกนิค 180มล.แพค4            UH   \n",
       "9813           ดีน่าโทนิวน้ำเต้าหู้ออร์แกนิค 180มล.แพค4            UH   \n",
       "\n",
       "     Product_Unit Product_Category  \n",
       "0            ชิ้น        100%Juice  \n",
       "1            ชิ้น        100%Juice  \n",
       "2            ชิ้น        100%Juice  \n",
       "3            ชิ้น        100%Juice  \n",
       "4            ชิ้น        100%Juice  \n",
       "...           ...              ...  \n",
       "9809          แพค     UHTDairyFree  \n",
       "9810          แพค     UHTDairyFree  \n",
       "9811          แพค     UHTDairyFree  \n",
       "9812          แพค     UHTDairyFree  \n",
       "9813          แพค     UHTDairyFree  \n",
       "\n",
       "[9814 rows x 4 columns]"
      ]
     },
     "execution_count": 17,
     "metadata": {},
     "output_type": "execute_result"
    }
   ],
   "source": [
    "df = pd.DataFrame(spo)\n",
    "df['Product_Price'] = df['Product_Category'].apply(lambda x: x[:2])\n",
    "df"
   ]
  },
  {
   "cell_type": "markdown",
   "id": "29ea489b-00b1-474a-a4b9-7dac580410bb",
   "metadata": {},
   "source": [
    "### write DataNode to DataPlatform"
   ]
  },
  {
   "cell_type": "code",
   "execution_count": 18,
   "id": "b8c7855f-acef-4074-9cf8-6562a2a55682",
   "metadata": {},
   "outputs": [
    {
     "data": {
      "text/plain": [
       "{'sucess': True,\n",
       " 'file_id': 175,\n",
       " 'path': 'pranodnard/DSI310-25/process/spo.parquet',\n",
       " 'lineage': True}"
      ]
     },
     "execution_count": 18,
     "metadata": {},
     "output_type": "execute_result"
    }
   ],
   "source": [
    "datanode.write(df=df, directory=dir_process_id, name=\"spo\", profiling=True, lineage=[datanode.get_file_id(directory_id=dir_raw_id, name='Tops_raw.json')])"
   ]
  },
  {
   "cell_type": "code",
   "execution_count": null,
   "id": "d24a8cb6-daf4-4954-96d6-d505ab4ddc8f",
   "metadata": {},
   "outputs": [],
   "source": []
  }
 ],
 "metadata": {
  "kernelspec": {
   "display_name": "Python 3 (ipykernel)",
   "language": "python",
   "name": "python3"
  },
  "language_info": {
   "codemirror_mode": {
    "name": "ipython",
    "version": 3
   },
   "file_extension": ".py",
   "mimetype": "text/x-python",
   "name": "python",
   "nbconvert_exporter": "python",
   "pygments_lexer": "ipython3",
   "version": "3.10.5"
  }
 },
 "nbformat": 4,
 "nbformat_minor": 5
}
