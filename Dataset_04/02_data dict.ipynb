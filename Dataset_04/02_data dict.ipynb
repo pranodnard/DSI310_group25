{
 "cells": [
  {
   "cell_type": "code",
   "execution_count": 1,
   "id": "d1373a76-5ff0-440b-aec5-bb89393f7759",
   "metadata": {},
   "outputs": [],
   "source": [
    "from dsmlibrary.datanode import DataNode\n",
    "import json\n",
    "from tqdm.auto import tqdm\n",
    "import pandas as pd"
   ]
  },
  {
   "cell_type": "code",
   "execution_count": 2,
   "id": "4dd37516-f4d6-43b1-a540-86171d545ffb",
   "metadata": {},
   "outputs": [],
   "source": [
    "dir_raw_id = 96\n",
    "dir_process_id = 97"
   ]
  },
  {
   "cell_type": "code",
   "execution_count": 3,
   "id": "f7785e41-12a3-4c7d-9226-f7f58850fb23",
   "metadata": {},
   "outputs": [
    {
     "name": "stdout",
     "output_type": "stream",
     "text": [
      "Init DataNode sucessful!\n"
     ]
    }
   ],
   "source": [
    "datanode = DataNode()"
   ]
  },
  {
   "cell_type": "code",
   "execution_count": 4,
   "id": "f9f7d4c0-9469-4b6d-8158-d832c3b0db86",
   "metadata": {},
   "outputs": [
    {
     "data": {
      "text/plain": [
       "{'owner': 'pranodnard',\n",
       " 'human_size': '175.95 KB',\n",
       " 'name': 'shopee.json',\n",
       " 'description': '-',\n",
       " 'directory': 96,\n",
       " 'path': 'pranodnard/DSI310-25/rawData/shopee.json'}"
      ]
     },
     "execution_count": 4,
     "metadata": {},
     "output_type": "execute_result"
    }
   ],
   "source": [
    "meta, fp = datanode.get_file(datanode.get_file_id(directory_id=dir_raw_id, name='shopee.json'))\n",
    "meta"
   ]
  },
  {
   "cell_type": "code",
   "execution_count": 5,
   "id": "53f1442a-29b4-4d01-8328-2fa0854d7f57",
   "metadata": {},
   "outputs": [
    {
     "data": {
      "text/html": [
       "<div>\n",
       "<style scoped>\n",
       "    .dataframe tbody tr th:only-of-type {\n",
       "        vertical-align: middle;\n",
       "    }\n",
       "\n",
       "    .dataframe tbody tr th {\n",
       "        vertical-align: top;\n",
       "    }\n",
       "\n",
       "    .dataframe thead th {\n",
       "        text-align: right;\n",
       "    }\n",
       "</style>\n",
       "<table border=\"1\" class=\"dataframe\">\n",
       "  <thead>\n",
       "    <tr style=\"text-align: right;\">\n",
       "      <th></th>\n",
       "      <th>Name</th>\n",
       "      <th>Price</th>\n",
       "      <th>Province</th>\n",
       "      <th>AmountSold</th>\n",
       "    </tr>\n",
       "  </thead>\n",
       "  <tbody>\n",
       "    <tr>\n",
       "      <th>0</th>\n",
       "      <td>Jinny (ส่งฟรี) ซอสเด็ก ผงปรุงรสเด็ก เซ็ตจับคู่...</td>\n",
       "      <td>420</td>\n",
       "      <td>อุทัยธานี</td>\n",
       "      <td>6</td>\n",
       "    </tr>\n",
       "    <tr>\n",
       "      <th>1</th>\n",
       "      <td>คิดส์พาสต้า5คุณประโยชน์ ผสมผักให้ลูกกินผักไม่ร...</td>\n",
       "      <td>149</td>\n",
       "      <td>ภูเก็ต</td>\n",
       "      <td>25</td>\n",
       "    </tr>\n",
       "    <tr>\n",
       "      <th>2</th>\n",
       "      <td>Klomkloam ซอสสูตรผัดกระเทียม (กลมกล่อม) ซอสปรุ...</td>\n",
       "      <td>220</td>\n",
       "      <td>อุทัยธานี</td>\n",
       "      <td>724</td>\n",
       "    </tr>\n",
       "    <tr>\n",
       "      <th>3</th>\n",
       "      <td>ผงกล้วยดิบ ผงกล้วยน้ำว้าดิบ 500g ออร์แกนิค100%...</td>\n",
       "      <td>119</td>\n",
       "      <td>กรุงเทพมหานคร</td>\n",
       "      <td>4800</td>\n",
       "    </tr>\n",
       "    <tr>\n",
       "      <th>4</th>\n",
       "      <td>ส่งฟรี‼️ผงปรุงรส ซอสปรุงรส และซอสเทอริยากิ ปรา...</td>\n",
       "      <td>240</td>\n",
       "      <td>กรุงเทพมหานคร</td>\n",
       "      <td>11300</td>\n",
       "    </tr>\n",
       "    <tr>\n",
       "      <th>...</th>\n",
       "      <td>...</td>\n",
       "      <td>...</td>\n",
       "      <td>...</td>\n",
       "      <td>...</td>\n",
       "    </tr>\n",
       "    <tr>\n",
       "      <th>595</th>\n",
       "      <td>เม็ดสาคูแท้ ออร์แกนิค100% จากพัทุลง ขนาด500กรัม</td>\n",
       "      <td>100</td>\n",
       "      <td>สงขลา</td>\n",
       "      <td>47</td>\n",
       "    </tr>\n",
       "    <tr>\n",
       "      <th>596</th>\n",
       "      <td>ก๋วยเตี๋ยวข้าวกล้องกึ่งสำเร็จรูปออร์แกนิค (แบบ...</td>\n",
       "      <td>39</td>\n",
       "      <td>ลำพูน</td>\n",
       "      <td>19</td>\n",
       "    </tr>\n",
       "    <tr>\n",
       "      <th>597</th>\n",
       "      <td>Tropicana Organic Cold Pressed Virgin Coconut ...</td>\n",
       "      <td>83</td>\n",
       "      <td>หนองบัวลำภู</td>\n",
       "      <td>34</td>\n",
       "    </tr>\n",
       "    <tr>\n",
       "      <th>598</th>\n",
       "      <td>กล้วยอบแห้ง​ ขายส่ง!! กล้วยอบ กล้วยเส้น  ออร์แ...</td>\n",
       "      <td>51</td>\n",
       "      <td>เชียงใหม่</td>\n",
       "      <td>737</td>\n",
       "    </tr>\n",
       "    <tr>\n",
       "      <th>599</th>\n",
       "      <td>Catnip กัญชาแมว ออร์แกนิค ลูกบอลแมว แคทนิป ของ...</td>\n",
       "      <td>30</td>\n",
       "      <td>กรุงเทพมหานคร</td>\n",
       "      <td>15</td>\n",
       "    </tr>\n",
       "  </tbody>\n",
       "</table>\n",
       "<p>600 rows × 4 columns</p>\n",
       "</div>"
      ],
      "text/plain": [
       "                                                  Name  Price       Province  \\\n",
       "0    Jinny (ส่งฟรี) ซอสเด็ก ผงปรุงรสเด็ก เซ็ตจับคู่...    420      อุทัยธานี   \n",
       "1    คิดส์พาสต้า5คุณประโยชน์ ผสมผักให้ลูกกินผักไม่ร...    149         ภูเก็ต   \n",
       "2    Klomkloam ซอสสูตรผัดกระเทียม (กลมกล่อม) ซอสปรุ...    220      อุทัยธานี   \n",
       "3    ผงกล้วยดิบ ผงกล้วยน้ำว้าดิบ 500g ออร์แกนิค100%...    119  กรุงเทพมหานคร   \n",
       "4    ส่งฟรี‼️ผงปรุงรส ซอสปรุงรส และซอสเทอริยากิ ปรา...    240  กรุงเทพมหานคร   \n",
       "..                                                 ...    ...            ...   \n",
       "595    เม็ดสาคูแท้ ออร์แกนิค100% จากพัทุลง ขนาด500กรัม    100          สงขลา   \n",
       "596  ก๋วยเตี๋ยวข้าวกล้องกึ่งสำเร็จรูปออร์แกนิค (แบบ...     39          ลำพูน   \n",
       "597  Tropicana Organic Cold Pressed Virgin Coconut ...     83    หนองบัวลำภู   \n",
       "598  กล้วยอบแห้ง​ ขายส่ง!! กล้วยอบ กล้วยเส้น  ออร์แ...     51      เชียงใหม่   \n",
       "599  Catnip กัญชาแมว ออร์แกนิค ลูกบอลแมว แคทนิป ของ...     30  กรุงเทพมหานคร   \n",
       "\n",
       "     AmountSold  \n",
       "0             6  \n",
       "1            25  \n",
       "2           724  \n",
       "3          4800  \n",
       "4         11300  \n",
       "..          ...  \n",
       "595          47  \n",
       "596          19  \n",
       "597          34  \n",
       "598         737  \n",
       "599          15  \n",
       "\n",
       "[600 rows x 4 columns]"
      ]
     },
     "execution_count": 5,
     "metadata": {},
     "output_type": "execute_result"
    }
   ],
   "source": [
    "data = json.load(fp)\n",
    "df = data\n",
    "\n",
    "df = pd.json_normalize(data)\n",
    "df"
   ]
  },
  {
   "cell_type": "code",
   "execution_count": 6,
   "id": "ab75ee7b-a5a1-434c-9be9-737274c2ddcd",
   "metadata": {},
   "outputs": [
    {
     "name": "stdin",
     "output_type": "stream",
     "text": [
      "File ข้อมูลชุดที่4_รายการสินค้า Organic จากร้านค้าออนไลน์บน Shopee.parquet alrady exists, do you want to replace y/n :  y\n"
     ]
    },
    {
     "data": {
      "text/plain": [
       "{'sucess': True,\n",
       " 'file_id': 666,\n",
       " 'path': 'pranodnard/DSI310-25/processData/ข้อมูลชุดที่4_รายการสินค้า Organic จากร้านค้าออนไลน์บน Shopee.parquet',\n",
       " 'lineage': True}"
      ]
     },
     "execution_count": 6,
     "metadata": {},
     "output_type": "execute_result"
    }
   ],
   "source": [
    "datanode.write(df=df, \n",
    "               directory=dir_process_id, \n",
    "               name=\"ข้อมูลชุดที่4_รายการสินค้า Organic จากร้านค้าออนไลน์บน Shopee\", \n",
    "               profiling=True, \n",
    "               lineage=[datanode.get_file_id(directory_id=dir_raw_id, name='pantipscrap.json')],\n",
    "               description= \"ข้อมูลชุดที่4:รายการสินค้า Organic จากร้านค้าออนไลน์บน Shopee ประกอบไปด้วยชื่อสินค้า, ราคาสินค้า, จังหวัดที่ขายสินค้า, จำนวนสินค้าที่ขายได้ ซึ่งเก็บข้อมูลเมื่อวันที่ 9/11/2022 เพื่อนำไปวิเคราะห์ราคาวัตถุดิบ ราคาสินค้าในตลาดของสินค้าแต่ละประเภท โดยกระบวนการรวบข้อมูลคือการ scrape จากเว็บไซต์ https://shopee.co.th\")"
   ]
  },
  {
   "cell_type": "code",
   "execution_count": null,
   "id": "63fc1d27-9fb7-4c95-998a-04a6fc01b322",
   "metadata": {},
   "outputs": [],
   "source": []
  }
 ],
 "metadata": {
  "kernelspec": {
   "display_name": "Python 3 (ipykernel)",
   "language": "python",
   "name": "python3"
  },
  "language_info": {
   "codemirror_mode": {
    "name": "ipython",
    "version": 3
   },
   "file_extension": ".py",
   "mimetype": "text/x-python",
   "name": "python",
   "nbconvert_exporter": "python",
   "pygments_lexer": "ipython3",
   "version": "3.10.5"
  }
 },
 "nbformat": 4,
 "nbformat_minor": 5
}
