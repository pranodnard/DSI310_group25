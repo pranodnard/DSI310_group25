{
 "cells": [
  {
   "cell_type": "code",
   "execution_count": 1,
   "id": "994ab039-178c-4f7c-8df0-96e78acee351",
   "metadata": {},
   "outputs": [],
   "source": [
    "import requests\n",
    "from tqdm.auto import tqdm\n",
    "import json"
   ]
  },
  {
   "cell_type": "code",
   "execution_count": 2,
   "id": "f04ac5c7-fd84-46f8-9eb0-7666ca69dc73",
   "metadata": {},
   "outputs": [],
   "source": [
    "from dsmlibrary.datanode import DataNode"
   ]
  },
  {
   "cell_type": "code",
   "execution_count": 3,
   "id": "13dbc03c-c666-4bd8-8a1b-7469ea6c7ec3",
   "metadata": {},
   "outputs": [],
   "source": [
    "dir_raw_id = 96"
   ]
  },
  {
   "cell_type": "code",
   "execution_count": 4,
   "id": "2e2d3f48-2948-4e60-ad09-26b0ddfc9084",
   "metadata": {},
   "outputs": [
    {
     "name": "stdout",
     "output_type": "stream",
     "text": [
      "Init DataNode sucessful!\n"
     ]
    }
   ],
   "source": [
    "datanode = DataNode()"
   ]
  },
  {
   "cell_type": "code",
   "execution_count": 5,
   "id": "9d08db47-ff89-45f1-bb0c-7e3c2b5d209a",
   "metadata": {},
   "outputs": [
    {
     "name": "stdin",
     "output_type": "stream",
     "text": [
      "File shopee.json alrady exists, do you want to replace y/n :  y\n"
     ]
    },
    {
     "data": {
      "application/vnd.jupyter.widget-view+json": {
       "model_id": "a26e9b09c1ea47ff9bbc563777b135cd",
       "version_major": 2,
       "version_minor": 0
      },
      "text/plain": [
       "  0%|          | 0.00/172k [00:00<?, ?B/s]"
      ]
     },
     "metadata": {},
     "output_type": "display_data"
    },
    {
     "data": {
      "text/plain": [
       "{'id': 665,\n",
       " 'msg': 'file shopee.json create sucessful',\n",
       " 'path': 'pranodnard/DSI310-25/rawData/shopee.json',\n",
       " 'uploaded': True}"
      ]
     },
     "execution_count": 5,
     "metadata": {},
     "output_type": "execute_result"
    }
   ],
   "source": [
    "datanode.upload_file(directory_id=dir_raw_id, file_path='shopee.json')"
   ]
  },
  {
   "cell_type": "code",
   "execution_count": null,
   "id": "8f2481a0-da98-4052-994d-3b371e3056d4",
   "metadata": {},
   "outputs": [],
   "source": []
  }
 ],
 "metadata": {
  "kernelspec": {
   "display_name": "Python 3 (ipykernel)",
   "language": "python",
   "name": "python3"
  },
  "language_info": {
   "codemirror_mode": {
    "name": "ipython",
    "version": 3
   },
   "file_extension": ".py",
   "mimetype": "text/x-python",
   "name": "python",
   "nbconvert_exporter": "python",
   "pygments_lexer": "ipython3",
   "version": "3.10.5"
  }
 },
 "nbformat": 4,
 "nbformat_minor": 5
}
